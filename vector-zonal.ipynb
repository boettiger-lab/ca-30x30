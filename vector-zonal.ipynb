{
 "cells": [
  {
   "cell_type": "code",
   "execution_count": 2,
   "metadata": {},
   "outputs": [],
   "source": [
    "import ibis\n",
    "from ibis import _\n",
    "import sys\n",
    "sys.path.append(\"../cng-python/\")\n",
    "from utils import set_secrets, source_secrets\n",
    "\n",
    "con = ibis.duckdb.connect(extensions=[\"spatial\"])\n",
    "set_secrets(con)\n",
    "source_secrets(con)\n"
   ]
  },
  {
   "cell_type": "code",
   "execution_count": 3,
   "metadata": {},
   "outputs": [],
   "source": [
    "url = \"https://huggingface.co/datasets/boettiger-lab/ca-30x30/resolve/main/cpad-stats.parquet\"\n",
    "url = \"s3://public-biodiversity/ca30x30/ca_areas.parquet\" # local MINIO copy\n",
    "\n",
    "ca_areas = con.read_parquet(url, \"ca_areas\").select(_.id, _.geom)\n"
   ]
  },
  {
   "cell_type": "code",
   "execution_count": 4,
   "metadata": {},
   "outputs": [],
   "source": [
    "ca_fire = con.read_parquet(\"s3://public-fire/calfire-2023.parquet\", \"ca_fire\").select(_.geometry)"
   ]
  },
  {
   "cell_type": "code",
   "execution_count": 6,
   "metadata": {},
   "outputs": [
    {
     "data": {
      "application/vnd.jupyter.widget-view+json": {
       "model_id": "3797776947b74d12903ff1810c5dff83",
       "version_major": 2,
       "version_minor": 0
      },
      "text/plain": [
       "FloatProgress(value=0.0, layout=Layout(width='auto'), style=ProgressStyle(bar_color='black'))"
      ]
     },
     "metadata": {},
     "output_type": "display_data"
    },
    {
     "data": {
      "application/vnd.jupyter.widget-view+json": {
       "model_id": "c83da03ca73c4c06b5aacad920c55775",
       "version_major": 2,
       "version_minor": 0
      },
      "text/plain": [
       "FloatProgress(value=0.0, layout=Layout(width='auto'), style=ProgressStyle(bar_color='black'))"
      ]
     },
     "metadata": {},
     "output_type": "display_data"
    },
    {
     "data": {
      "text/plain": [
       "<duckdb.duckdb.DuckDBPyConnection at 0x75b49c0677b0>"
      ]
     },
     "execution_count": 6,
     "metadata": {},
     "output_type": "execute_result"
    }
   ],
   "source": [
    "## to SQL code clean we make these into tables with valid geoms, standard geometry column and dummy table names:\n",
    "q1 = '''\n",
    "CREATE OR REPLACE TABLE t1 AS SELECT id, ST_MakeValid(geom) as geom FROM \"ca_areas\"\n",
    "'''\n",
    "\n",
    "q2 = '''\n",
    "CREATE OR REPLACE TABLE t2 AS SELECT ST_MakeValid(geometry) as geom FROM \"ca_fire\"\n",
    "'''\n",
    "\n",
    "con.raw_sql(f\"{q1};\")\n",
    "con.raw_sql(f\"{q2};\")"
   ]
  },
  {
   "cell_type": "code",
   "execution_count": 42,
   "metadata": {},
   "outputs": [
    {
     "data": {
      "text/html": [
       "<pre style=\"white-space:pre;overflow-x:auto;line-height:normal;font-family:Menlo,'DejaVu Sans Mono',consolas,'Courier New',monospace\">DatabaseTable: t2\n",
       "  geom geospatial:geometry\n",
       "</pre>\n"
      ],
      "text/plain": [
       "DatabaseTable: t2\n",
       "  geom geospatial:geometry"
      ]
     },
     "execution_count": 42,
     "metadata": {},
     "output_type": "execute_result"
    }
   ],
   "source": [
    "# Verify t2 table exists and contains the geometry column as geospatial type.  (ibis converts it to WKB blob, which geopandas understands but duckdb does not)\n",
    "con.table(\"t2\")"
   ]
  },
  {
   "cell_type": "markdown",
   "metadata": {},
   "source": [
    "Okay here we go.  We'll do the operation as SQL becuase it's not obvious to me how to do in ibis yet.  this solution from llama\n",
    "\n",
    "\n",
    "- The coalesce may be unnecessary, apparently it is just converting areas with no overlap to 0 rather than leaving them as NULL / NA.\n",
    " \n",
    " Llama3.3 thinks this is the same as:\n",
    "\n",
    " ```\n",
    " SELECT \n",
    "    t1.id,\n",
    "    ST_Area(ST_Intersection(t1.geom, (SELECT ST_Union(geom) FROM t2))) / ST_Area(t1.geom) AS coverage_fraction\n",
    "FROM \n",
    "    t1;\n",
    "```\n",
    "\n",
    "but suggests that the join approach should scale much better. "
   ]
  },
  {
   "cell_type": "code",
   "execution_count": null,
   "metadata": {},
   "outputs": [
    {
     "data": {
      "application/vnd.jupyter.widget-view+json": {
       "model_id": "80af2f228c704bb0b6e0ef65921c91d2",
       "version_major": 2,
       "version_minor": 0
      },
      "text/plain": [
       "FloatProgress(value=0.0, layout=Layout(width='auto'), style=ProgressStyle(bar_color='black'))"
      ]
     },
     "metadata": {},
     "output_type": "display_data"
    }
   ],
   "source": [
    " \n",
    "con.raw_sql('''\n",
    "COPY (\n",
    "SELECT \n",
    "    t1.id,\n",
    "    COALESCE(\n",
    "        SUM(\n",
    "            ST_Area(ST_Intersection(t1.geom, t2.geom)) / ST_Area(t1.geom)\n",
    "        ),\n",
    "        0\n",
    "    ) as overlap_fraction\n",
    "FROM t1\n",
    "LEFT JOIN t2 ON ST_Intersects(t1.geom, t2.geom)\n",
    "GROUP BY t1.id, t1.geom\n",
    ") TO \n",
    "'overlap.parquet' (FORMAT 'parquet');\n",
    "''')"
   ]
  }
 ],
 "metadata": {
  "kernelspec": {
   "display_name": "base",
   "language": "python",
   "name": "python3"
  },
  "language_info": {
   "codemirror_mode": {
    "name": "ipython",
    "version": 3
   },
   "file_extension": ".py",
   "mimetype": "text/x-python",
   "name": "python",
   "nbconvert_exporter": "python",
   "pygments_lexer": "ipython3",
   "version": "3.12.8"
  }
 },
 "nbformat": 4,
 "nbformat_minor": 2
}
