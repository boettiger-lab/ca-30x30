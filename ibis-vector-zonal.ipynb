{
 "cells": [
  {
   "cell_type": "code",
   "execution_count": 1,
   "metadata": {},
   "outputs": [],
   "source": [
    "import ibis\n",
    "from ibis import _\n",
    "import sys\n",
    "sys.path.append(\"../cng-python/\")\n",
    "from utils import set_secrets, source_secrets\n",
    "\n",
    "con = ibis.duckdb.connect(extensions=[\"spatial\"])\n",
    "set_secrets(con)\n",
    "source_secrets(con)\n"
   ]
  },
  {
   "cell_type": "code",
   "execution_count": 2,
   "metadata": {},
   "outputs": [],
   "source": [
    "\n",
    "t1 = con.read_parquet(\"s3://public-biodiversity/ca30x30/ca_areas.parquet\").select(_.id, _.geom)\n",
    "t2 = con.read_parquet(\"s3://public-fire/calfire-2023.parquet\").select(_.geometry).rename(geom = \"geometry\")\n"
   ]
  },
  {
   "cell_type": "code",
   "execution_count": null,
   "metadata": {},
   "outputs": [
    {
     "data": {
      "application/vnd.jupyter.widget-view+json": {
       "model_id": "1d60ea9ecea64f3692bc64dcf049046c",
       "version_major": 2,
       "version_minor": 0
      },
      "text/plain": [
       "FloatProgress(value=0.0, layout=Layout(width='auto'), style=ProgressStyle(bar_color='black'))"
      ]
     },
     "metadata": {},
     "output_type": "display_data"
    }
   ],
   "source": [
    "# geometries must be valid.  this will double-count overlaps\n",
    "expr = (t1\n",
    " .left_join(t2, t1.geom.intersects(t2.geom))\n",
    " .group_by(t1.id, t1.geom)\n",
    " .agg(overlap_fraction = (t1.geom.intersection(t2.geom).area() / t1.geom.area()).sum().coalesce(0) )\n",
    ")\n",
    "\n",
    "ibis.to_sql(expr)\n",
    "\n",
    "expr.to_parquet(\"ibis_overlap.parquet\")"
   ]
  }
 ],
 "metadata": {
  "kernelspec": {
   "display_name": "base",
   "language": "python",
   "name": "python3"
  },
  "language_info": {
   "codemirror_mode": {
    "name": "ipython",
    "version": 3
   },
   "file_extension": ".py",
   "mimetype": "text/x-python",
   "name": "python",
   "nbconvert_exporter": "python",
   "pygments_lexer": "ipython3",
   "version": "3.12.8"
  }
 },
 "nbformat": 4,
 "nbformat_minor": 2
}
